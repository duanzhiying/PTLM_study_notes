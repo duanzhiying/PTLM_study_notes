{
 "cells": [
  {
   "cell_type": "markdown",
   "id": "ad1d1bee-3472-4de4-8ec1-04bef25df637",
   "metadata": {},
   "source": [
    "> 学习使用Pytorch创建CNN网络\n",
    "\n",
    "> 2022.05.12 kidzying"
   ]
  },
  {
   "cell_type": "code",
   "execution_count": 1,
   "id": "9bceb75b-32f7-48ca-88eb-3180692cd186",
   "metadata": {},
   "outputs": [],
   "source": [
    "import torch\n",
    "from torch import nn"
   ]
  },
  {
   "cell_type": "code",
   "execution_count": 2,
   "id": "43535e9d-7618-4974-a8e1-57cc8fab8be5",
   "metadata": {},
   "outputs": [],
   "source": [
    "linear = nn.Linear(32,2)"
   ]
  },
  {
   "cell_type": "code",
   "execution_count": 3,
   "id": "52180149-a4d8-4ca8-a08c-2cd571a2b787",
   "metadata": {},
   "outputs": [],
   "source": [
    "inputs = torch.rand(3,32)\n",
    "outputs = linear(inputs)"
   ]
  },
  {
   "cell_type": "code",
   "execution_count": 4,
   "id": "dfcbc0ba-21c7-4226-9673-47850bd8f25d",
   "metadata": {},
   "outputs": [
    {
     "name": "stdout",
     "output_type": "stream",
     "text": [
      "tensor([[ 0.0956, -0.5261],\n",
      "        [-0.0708, -0.4145],\n",
      "        [-0.0668, -0.2131]], grad_fn=<AddmmBackward0>)\n"
     ]
    }
   ],
   "source": [
    "print(outputs)"
   ]
  },
  {
   "cell_type": "code",
   "execution_count": 5,
   "id": "04ca14b0-9221-4d4f-aaf7-6f0f93d6cc61",
   "metadata": {},
   "outputs": [
    {
     "data": {
      "text/plain": [
       "tensor([[0.8802, 0.8769, 0.4235, 0.1109, 0.1475, 0.1654, 0.3668, 0.5460, 0.3983,\n",
       "         0.6329, 0.5483, 0.5389, 0.1484, 0.2005, 0.2878, 0.9165, 0.1720, 0.0688,\n",
       "         0.7665, 0.5246, 0.6454, 0.7416, 0.3530, 0.5818, 0.6466, 0.2234, 0.8878,\n",
       "         0.8218, 0.1875, 0.8287, 0.0031, 0.6078],\n",
       "        [0.1697, 0.6130, 0.2916, 0.0678, 0.8357, 0.8816, 0.5036, 0.8956, 0.9893,\n",
       "         0.6749, 0.9234, 0.6510, 0.8525, 0.8853, 0.4945, 0.9099, 0.5758, 0.2033,\n",
       "         0.6889, 0.6411, 0.6632, 0.7342, 0.6712, 0.8317, 0.1460, 0.3347, 0.3140,\n",
       "         0.5581, 0.9888, 0.4312, 0.0053, 0.4697],\n",
       "        [0.7664, 0.1642, 0.3281, 0.1771, 0.5606, 0.3597, 0.5221, 0.9429, 0.4006,\n",
       "         0.2132, 0.7485, 0.4483, 0.8238, 0.3605, 0.1997, 0.5213, 0.6848, 0.9087,\n",
       "         0.8223, 0.8838, 0.9130, 0.6805, 0.2496, 0.2090, 0.0896, 0.3182, 0.8176,\n",
       "         0.5298, 0.4272, 0.4959, 0.9024, 0.8292]])"
      ]
     },
     "execution_count": 5,
     "metadata": {},
     "output_type": "execute_result"
    }
   ],
   "source": [
    "inputs"
   ]
  },
  {
   "cell_type": "markdown",
   "id": "1a20210f-7afb-4981-9c39-ae808447f4e1",
   "metadata": {},
   "source": [
    "## 卷积神经网络CNN"
   ]
  },
  {
   "cell_type": "markdown",
   "id": "44979ff5-b42a-4605-b39d-cd0f34b16993",
   "metadata": {},
   "source": [
    "### 一维卷积"
   ]
  },
  {
   "cell_type": "code",
   "execution_count": 6,
   "id": "9577d45c-e498-44e5-bb52-82a7659dc753",
   "metadata": {},
   "outputs": [],
   "source": [
    "import torch\n",
    "from torch.nn import Conv1d"
   ]
  },
  {
   "cell_type": "markdown",
   "id": "bfa21e5d-d95f-4fcc-908f-d7e411a33ab7",
   "metadata": {},
   "source": [
    "#### 构建网络"
   ]
  },
  {
   "cell_type": "markdown",
   "id": "589422ba-bae2-4957-af19-d538b9100731",
   "metadata": {},
   "source": [
    ">一维卷积Conv1d的构造函数至少包括三个参数：in_channels输入通道，out_channels输出通道、对应卷积核的个数，kernel_size为每个卷积核的宽度"
   ]
  },
  {
   "cell_type": "code",
   "execution_count": 7,
   "id": "bf0e210f-78d9-48b1-97bd-5f3b2ab04b24",
   "metadata": {},
   "outputs": [],
   "source": [
    "# 一维卷积，输入通道大小为5，输出通道大小为2，卷积核宽度为4\n",
    "conv1 = Conv1d(5,2,4)\n",
    "# 一维卷积，输入通道大小为5，输出通道大小为2，卷积核宽度为3\n",
    "conv2 = Conv1d(5,2,3)"
   ]
  },
  {
   "cell_type": "code",
   "execution_count": 8,
   "id": "285e61ab-1f8d-4ff4-9723-f6fa942aeadc",
   "metadata": {},
   "outputs": [
    {
     "data": {
      "text/plain": [
       "tensor([[[0.7001, 0.6645, 0.7429, 0.3448, 0.2897, 0.1736],\n",
       "         [0.5868, 0.0724, 0.8808, 0.4649, 0.5535, 0.9587],\n",
       "         [0.3212, 0.5075, 0.1694, 0.5022, 0.0561, 0.1603],\n",
       "         [0.9489, 0.7473, 0.4341, 0.1113, 0.3758, 0.5996],\n",
       "         [0.4055, 0.6466, 0.8264, 0.7796, 0.4680, 0.0603]],\n",
       "\n",
       "        [[0.6665, 0.3454, 0.5944, 0.6981, 0.9614, 0.6788],\n",
       "         [0.2939, 0.8204, 0.9914, 0.7654, 0.2428, 0.4744],\n",
       "         [0.8561, 0.1077, 0.9316, 0.7863, 0.6753, 0.0523],\n",
       "         [0.3043, 0.7616, 0.6850, 0.9666, 0.1929, 0.3616],\n",
       "         [0.3737, 0.1974, 0.5354, 0.9284, 0.4352, 0.1611]]])"
      ]
     },
     "execution_count": 8,
     "metadata": {},
     "output_type": "execute_result"
    }
   ],
   "source": [
    "# 输入数据的形状为（batch，in_channels，seq_len)\n",
    "inputs = torch.rand(2,5,6)\n",
    "inputs"
   ]
  },
  {
   "cell_type": "code",
   "execution_count": 9,
   "id": "6c693987-7444-4870-b13d-a510310b4267",
   "metadata": {},
   "outputs": [
    {
     "data": {
      "text/plain": [
       "tensor([[[-0.1638, -0.0832, -0.3413],\n",
       "         [ 0.0671, -0.0948,  0.1140]],\n",
       "\n",
       "        [[-0.4938, -0.5925, -0.4118],\n",
       "         [ 0.1571,  0.1913, -0.0564]]], grad_fn=<ConvolutionBackward0>)"
      ]
     },
     "execution_count": 9,
     "metadata": {},
     "output_type": "execute_result"
    }
   ],
   "source": [
    "outputs1 = conv1(inputs)\n",
    "outputs1"
   ]
  },
  {
   "cell_type": "code",
   "execution_count": 10,
   "id": "b5cdf136-a660-4385-91d9-81a22b9e420e",
   "metadata": {},
   "outputs": [
    {
     "data": {
      "text/plain": [
       "tensor([[[0.4484, 0.4299, 0.3591, 0.2629],\n",
       "         [0.1233, 0.1760, 0.1427, 0.2011]],\n",
       "\n",
       "        [[0.3765, 0.4883, 0.4621, 0.2944],\n",
       "         [0.2055, 0.2876, 0.2927, 0.1796]]], grad_fn=<ConvolutionBackward0>)"
      ]
     },
     "execution_count": 10,
     "metadata": {},
     "output_type": "execute_result"
    }
   ],
   "source": [
    "outputs2 = conv2(inputs)\n",
    "outputs2"
   ]
  },
  {
   "cell_type": "markdown",
   "id": "5bb6ff29-c1dd-4c40-9c79-343eaf1fc515",
   "metadata": {},
   "source": [
    "#### 增加池化层"
   ]
  },
  {
   "cell_type": "markdown",
   "id": "205a8f1e-afe8-4b99-a4d9-ecb99c302e06",
   "metadata": {},
   "source": [
    "##### 方式1：定义池化层对象"
   ]
  },
  {
   "cell_type": "code",
   "execution_count": 11,
   "id": "e2766223-0541-484e-abed-11b0afb15828",
   "metadata": {},
   "outputs": [],
   "source": [
    "from torch.nn import MaxPool1d"
   ]
  },
  {
   "cell_type": "code",
   "execution_count": 12,
   "id": "2be47866-e073-4f34-89fd-bb388cb1b388",
   "metadata": {},
   "outputs": [],
   "source": [
    "pool1 = MaxPool1d(3)\n",
    "pool3 = MaxPool1d(4)"
   ]
  },
  {
   "cell_type": "code",
   "execution_count": 13,
   "id": "0fdbff44-a1a7-4062-b7d6-3ce75e7ed646",
   "metadata": {},
   "outputs": [
    {
     "data": {
      "text/plain": [
       "tensor([[[-0.0832],\n",
       "         [ 0.1140]],\n",
       "\n",
       "        [[-0.4118],\n",
       "         [ 0.1913]]], grad_fn=<SqueezeBackward1>)"
      ]
     },
     "execution_count": 13,
     "metadata": {},
     "output_type": "execute_result"
    }
   ],
   "source": [
    "outputs_pool1 = pool1(outputs1)\n",
    "outputs_pool1"
   ]
  },
  {
   "cell_type": "code",
   "execution_count": 14,
   "id": "d5d1f962-d5eb-40a0-8c9e-6cfb7965fea9",
   "metadata": {},
   "outputs": [
    {
     "data": {
      "text/plain": [
       "tensor([[[0.4484],\n",
       "         [0.1760]],\n",
       "\n",
       "        [[0.4883],\n",
       "         [0.2927]]], grad_fn=<SqueezeBackward1>)"
      ]
     },
     "execution_count": 14,
     "metadata": {},
     "output_type": "execute_result"
    }
   ],
   "source": [
    "outputs_pool2 = pool1(outputs2)\n",
    "outputs_pool2"
   ]
  },
  {
   "cell_type": "markdown",
   "id": "e5d81404-9ffa-4c32-98ee-a04c27af692e",
   "metadata": {},
   "source": [
    "##### 方式2：使用池化函数"
   ]
  },
  {
   "cell_type": "code",
   "execution_count": 15,
   "id": "9f37abf6-5641-4679-9d4b-d2629c4f4c1e",
   "metadata": {},
   "outputs": [],
   "source": [
    "import torch.nn.functional as F"
   ]
  },
  {
   "cell_type": "code",
   "execution_count": 16,
   "id": "6b5e0995-b593-4e51-9e0a-0e2e71eb2c26",
   "metadata": {},
   "outputs": [
    {
     "data": {
      "text/plain": [
       "torch.Size([2, 2, 3])"
      ]
     },
     "execution_count": 16,
     "metadata": {},
     "output_type": "execute_result"
    }
   ],
   "source": [
    "outputs1.shape"
   ]
  },
  {
   "cell_type": "code",
   "execution_count": 17,
   "id": "0deed7f8-5a7c-4ef3-803b-4aaaaea96726",
   "metadata": {},
   "outputs": [
    {
     "data": {
      "text/plain": [
       "tensor([[[-0.0832],\n",
       "         [ 0.1140]],\n",
       "\n",
       "        [[-0.4118],\n",
       "         [ 0.1913]]], grad_fn=<SqueezeBackward1>)"
      ]
     },
     "execution_count": 17,
     "metadata": {},
     "output_type": "execute_result"
    }
   ],
   "source": [
    "outputs_pool1 = F.max_pool1d(outputs1, kernel_size = outputs1.shape[2])\n",
    "outputs_pool1"
   ]
  },
  {
   "cell_type": "code",
   "execution_count": 18,
   "id": "662b2c6e-7f8c-42e9-baff-4dc8955c2138",
   "metadata": {},
   "outputs": [
    {
     "data": {
      "text/plain": [
       "tensor([[[0.4484],\n",
       "         [0.2011]],\n",
       "\n",
       "        [[0.4883],\n",
       "         [0.2927]]], grad_fn=<SqueezeBackward1>)"
      ]
     },
     "execution_count": 18,
     "metadata": {},
     "output_type": "execute_result"
    }
   ],
   "source": [
    "outputs_pool2 = F.max_pool1d(outputs2, kernel_size = outputs2.shape[2])\n",
    "outputs_pool2"
   ]
  },
  {
   "cell_type": "markdown",
   "id": "720faced-aff3-4ed5-83ee-ab5aa623391f",
   "metadata": {},
   "source": [
    "#### 合并池化层结果"
   ]
  },
  {
   "cell_type": "code",
   "execution_count": 19,
   "id": "8c5f161f-6e49-46b3-8c4f-0923f49b61a5",
   "metadata": {},
   "outputs": [
    {
     "data": {
      "text/plain": [
       "tensor([[-0.0832,  0.1140],\n",
       "        [-0.4118,  0.1913]], grad_fn=<SqueezeBackward1>)"
      ]
     },
     "execution_count": 19,
     "metadata": {},
     "output_type": "execute_result"
    }
   ],
   "source": [
    "outputs_pool1_squeeze = outputs_pool1.squeeze(dim=2)\n",
    "outputs_pool1_squeeze"
   ]
  },
  {
   "cell_type": "code",
   "execution_count": 20,
   "id": "568b0a24-78ee-4b79-9340-6e001bfd2910",
   "metadata": {},
   "outputs": [
    {
     "data": {
      "text/plain": [
       "tensor([[0.4484, 0.2011],\n",
       "        [0.4883, 0.2927]], grad_fn=<SqueezeBackward1>)"
      ]
     },
     "execution_count": 20,
     "metadata": {},
     "output_type": "execute_result"
    }
   ],
   "source": [
    "outputs_pool2_squeeze = outputs_pool2.squeeze(dim=2)\n",
    "outputs_pool2_squeeze"
   ]
  },
  {
   "cell_type": "code",
   "execution_count": 21,
   "id": "522ceb27-84b4-48c2-90e2-cda6982e8ad2",
   "metadata": {},
   "outputs": [
    {
     "data": {
      "text/plain": [
       "tensor([[-0.0832,  0.1140,  0.4484,  0.2011],\n",
       "        [-0.4118,  0.1913,  0.4883,  0.2927]], grad_fn=<CatBackward0>)"
      ]
     },
     "execution_count": 21,
     "metadata": {},
     "output_type": "execute_result"
    }
   ],
   "source": [
    "outputs_pool = torch.cat([outputs_pool1_squeeze, outputs_pool2_squeeze], dim=1)\n",
    "outputs_pool"
   ]
  },
  {
   "cell_type": "markdown",
   "id": "8365efe4-1f74-473b-a748-50ff39deb6de",
   "metadata": {},
   "source": [
    "#### 增加全连接层"
   ]
  },
  {
   "cell_type": "code",
   "execution_count": 22,
   "id": "c11b7af7-63e3-4f57-ae83-61ff4d3ad265",
   "metadata": {},
   "outputs": [],
   "source": [
    "from torch.nn import Linear"
   ]
  },
  {
   "cell_type": "code",
   "execution_count": 23,
   "id": "eaaee64e-21b3-4295-8dcc-0904c43c8011",
   "metadata": {},
   "outputs": [
    {
     "data": {
      "text/plain": [
       "tensor([[-0.1149, -0.6229],\n",
       "        [-0.0604, -0.7021]], grad_fn=<AddmmBackward0>)"
      ]
     },
     "execution_count": 23,
     "metadata": {},
     "output_type": "execute_result"
    }
   ],
   "source": [
    "linear = Linear(4, 2)\n",
    "outputs_linear = linear(outputs_pool)\n",
    "outputs_linear"
   ]
  }
 ],
 "metadata": {
  "kernelspec": {
   "display_name": "Python 3 (ipykernel)",
   "language": "python",
   "name": "python3"
  },
  "language_info": {
   "codemirror_mode": {
    "name": "ipython",
    "version": 3
   },
   "file_extension": ".py",
   "mimetype": "text/x-python",
   "name": "python",
   "nbconvert_exporter": "python",
   "pygments_lexer": "ipython3",
   "version": "3.9.7"
  }
 },
 "nbformat": 4,
 "nbformat_minor": 5
}
