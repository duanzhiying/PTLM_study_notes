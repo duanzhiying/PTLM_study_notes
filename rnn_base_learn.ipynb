{
 "cells": [
  {
   "cell_type": "markdown",
   "id": "6f327a03-f90a-4f9d-ae32-7fb9dc054a63",
   "metadata": {},
   "source": [
    "# RNN模型"
   ]
  },
  {
   "cell_type": "code",
   "execution_count": 4,
   "id": "4e1c90af-661b-4ea7-8b8a-13f5ed51c8ce",
   "metadata": {},
   "outputs": [],
   "source": [
    "import torch\n",
    "from torch.nn import RNN"
   ]
  },
  {
   "cell_type": "code",
   "execution_count": 2,
   "id": "b27e1a59-7396-495f-8a02-0fa819aa0dad",
   "metadata": {},
   "outputs": [],
   "source": [
    "rnn = RNN(input_size = 4, hidden_size = 5, batch_first = True)"
   ]
  },
  {
   "cell_type": "code",
   "execution_count": 5,
   "id": "038cc94f-cce1-42ab-8eaf-638d2d87287d",
   "metadata": {},
   "outputs": [
    {
     "data": {
      "text/plain": [
       "tensor([[[0.0717, 0.2483, 0.6369, 0.2375],\n",
       "         [0.8713, 0.3939, 0.7648, 0.0323],\n",
       "         [0.4518, 0.3574, 0.7898, 0.1921]],\n",
       "\n",
       "        [[0.2594, 0.9358, 0.6137, 0.2060],\n",
       "         [0.2949, 0.7747, 0.4832, 0.5256],\n",
       "         [0.9427, 0.8908, 0.9020, 0.6380]]])"
      ]
     },
     "execution_count": 5,
     "metadata": {},
     "output_type": "execute_result"
    }
   ],
   "source": [
    "inputs = torch.rand(2,3,4) # 输入数据：批次大小为2，每个序列的长度是3，每个时刻输入大小都为4\n",
    "inputs"
   ]
  },
  {
   "cell_type": "code",
   "execution_count": 10,
   "id": "186ec799-33ab-436e-94c4-381b08015ab9",
   "metadata": {},
   "outputs": [],
   "source": [
    "# 输出分别为隐含层序列 和 最后一个时刻的隐含层\n",
    "outputs, hn = rnn(inputs)"
   ]
  },
  {
   "cell_type": "code",
   "execution_count": 11,
   "id": "0af692c7-f081-4d24-b308-c44605fc3a55",
   "metadata": {},
   "outputs": [
    {
     "data": {
      "text/plain": [
       "tensor([[[-0.5506,  0.0849, -0.2268,  0.6773,  0.2703],\n",
       "         [-0.7068,  0.1191, -0.1913,  0.7029,  0.3580],\n",
       "         [-0.7670, -0.0334, -0.3941,  0.6315,  0.3857]],\n",
       "\n",
       "        [[-0.3613,  0.2121,  0.1582,  0.6424,  0.1324],\n",
       "         [-0.6332, -0.1522, -0.0602,  0.3005,  0.2094],\n",
       "         [-0.4925, -0.0199,  0.0659,  0.6009,  0.2160]]],\n",
       "       grad_fn=<TransposeBackward1>)"
      ]
     },
     "execution_count": 11,
     "metadata": {},
     "output_type": "execute_result"
    }
   ],
   "source": [
    "# 隐含层序列，形状为（batch，seq_len，hidden_size)\n",
    "outputs"
   ]
  },
  {
   "cell_type": "code",
   "execution_count": 13,
   "id": "0d279841-5b48-42e9-b6fe-e3553af39fd6",
   "metadata": {},
   "outputs": [
    {
     "data": {
      "text/plain": [
       "torch.Size([2, 3, 5])"
      ]
     },
     "execution_count": 13,
     "metadata": {},
     "output_type": "execute_result"
    }
   ],
   "source": [
    "outputs.shape"
   ]
  },
  {
   "cell_type": "code",
   "execution_count": 12,
   "id": "876dc8a9-e382-4caa-bb91-bc9a4c80a092",
   "metadata": {},
   "outputs": [
    {
     "data": {
      "text/plain": [
       "tensor([[[-0.7670, -0.0334, -0.3941,  0.6315,  0.3857],\n",
       "         [-0.4925, -0.0199,  0.0659,  0.6009,  0.2160]]],\n",
       "       grad_fn=<StackBackward0>)"
      ]
     },
     "execution_count": 12,
     "metadata": {},
     "output_type": "execute_result"
    }
   ],
   "source": [
    "# 最后一个时刻的隐含层序列，形状为（1，batch，hidden_size)\n",
    "hn"
   ]
  },
  {
   "cell_type": "code",
   "execution_count": 14,
   "id": "cf7e7aaa-070e-4792-952b-06cf5e303eac",
   "metadata": {},
   "outputs": [
    {
     "data": {
      "text/plain": [
       "torch.Size([1, 2, 5])"
      ]
     },
     "execution_count": 14,
     "metadata": {},
     "output_type": "execute_result"
    }
   ],
   "source": [
    "hn.shape"
   ]
  },
  {
   "cell_type": "markdown",
   "id": "f7e92c2f-9d31-47a4-b66a-7ec8d9f9633d",
   "metadata": {},
   "source": [
    "# LSTM模型"
   ]
  },
  {
   "cell_type": "code",
   "execution_count": 15,
   "id": "5b00f5b1-301b-4407-a47f-054b53513aa6",
   "metadata": {},
   "outputs": [],
   "source": [
    "from torch.nn import LSTM"
   ]
  },
  {
   "cell_type": "code",
   "execution_count": 16,
   "id": "be2f3968-4e08-4f79-bc1b-83a6e96c14da",
   "metadata": {},
   "outputs": [],
   "source": [
    "lstm = LSTM(input_size = 4, hidden_size = 5, batch_first = True)"
   ]
  },
  {
   "cell_type": "code",
   "execution_count": 17,
   "id": "33fe6a9f-ac54-4a21-83ea-2a19df2e5749",
   "metadata": {},
   "outputs": [
    {
     "data": {
      "text/plain": [
       "tensor([[[0.1814, 0.3707, 0.1272, 0.1767],\n",
       "         [0.1770, 0.3851, 0.6919, 0.9588],\n",
       "         [0.5080, 0.6203, 0.7056, 0.2145]],\n",
       "\n",
       "        [[0.8486, 0.6113, 0.8123, 0.7885],\n",
       "         [0.0033, 0.1065, 0.5890, 0.7950],\n",
       "         [0.5764, 0.7725, 0.7797, 0.2712]]])"
      ]
     },
     "execution_count": 17,
     "metadata": {},
     "output_type": "execute_result"
    }
   ],
   "source": [
    "inputs = torch.rand(2,3,4)\n",
    "inputs"
   ]
  },
  {
   "cell_type": "code",
   "execution_count": 19,
   "id": "8683b1ad-6cc9-4742-be8a-9db27da452a3",
   "metadata": {},
   "outputs": [],
   "source": [
    "# LSTM模型的输出包括：输出序列的隐含层outputs，最后一个时刻的隐含层hn和最后一个时刻的记忆细胞cn\n",
    "outputs,(hn,cn) = lstm(inputs)"
   ]
  },
  {
   "cell_type": "code",
   "execution_count": 20,
   "id": "2c471c0e-d1d6-4c51-8530-d5e8387ce7da",
   "metadata": {},
   "outputs": [
    {
     "data": {
      "text/plain": [
       "tensor([[[-0.1494, -0.0833,  0.0473, -0.0264, -0.0407],\n",
       "         [-0.1550, -0.2388,  0.1560, -0.0593, -0.0718],\n",
       "         [-0.2402, -0.3003,  0.2603, -0.0226, -0.0219]],\n",
       "\n",
       "        [[-0.1379, -0.1545,  0.1686,  0.0060,  0.0197],\n",
       "         [-0.1528, -0.2654,  0.1854, -0.0289, -0.0499],\n",
       "         [-0.2444, -0.3137,  0.3112, -0.0065, -0.0064]]],\n",
       "       grad_fn=<TransposeBackward0>)"
      ]
     },
     "execution_count": 20,
     "metadata": {},
     "output_type": "execute_result"
    }
   ],
   "source": [
    "outputs"
   ]
  },
  {
   "cell_type": "code",
   "execution_count": 21,
   "id": "c362450e-d101-41bd-96bd-85c37f0326ff",
   "metadata": {},
   "outputs": [
    {
     "data": {
      "text/plain": [
       "tensor([[[-0.2402, -0.3003,  0.2603, -0.0226, -0.0219],\n",
       "         [-0.2444, -0.3137,  0.3112, -0.0065, -0.0064]]],\n",
       "       grad_fn=<StackBackward0>)"
      ]
     },
     "execution_count": 21,
     "metadata": {},
     "output_type": "execute_result"
    }
   ],
   "source": [
    "hn"
   ]
  },
  {
   "cell_type": "code",
   "execution_count": 22,
   "id": "dda70cbb-16ba-4a78-a9a0-ecec394283eb",
   "metadata": {},
   "outputs": [
    {
     "data": {
      "text/plain": [
       "tensor([[[-0.3869, -0.4858,  0.4931, -0.0444, -0.0433],\n",
       "         [-0.3932, -0.5065,  0.5906, -0.0126, -0.0131]]],\n",
       "       grad_fn=<StackBackward0>)"
      ]
     },
     "execution_count": 22,
     "metadata": {},
     "output_type": "execute_result"
    }
   ],
   "source": [
    "cn"
   ]
  },
  {
   "cell_type": "code",
   "execution_count": 23,
   "id": "d2f61f87-5011-4e47-8809-e79d8a5bd191",
   "metadata": {},
   "outputs": [
    {
     "name": "stdout",
     "output_type": "stream",
     "text": [
      "torch.Size([2, 3, 5]) torch.Size([1, 2, 5]) torch.Size([1, 2, 5])\n"
     ]
    }
   ],
   "source": [
    "print(outputs.shape, hn.shape, cn.shape)"
   ]
  },
  {
   "cell_type": "markdown",
   "id": "fd652ab1-abce-402a-88a2-a131f321a0aa",
   "metadata": {},
   "source": [
    "# Transformer"
   ]
  },
  {
   "cell_type": "code",
   "execution_count": 25,
   "id": "6eb71943-698d-451b-a0e6-0cf19b4b35df",
   "metadata": {},
   "outputs": [],
   "source": [
    "import torch\n",
    "import torch.nn as nn"
   ]
  },
  {
   "cell_type": "code",
   "execution_count": 26,
   "id": "aa196814-82e0-45fe-8d2b-d22a5f99b4c9",
   "metadata": {},
   "outputs": [],
   "source": [
    "encoder_layer = nn.TransformerEncoderLayer(d_model=4, nhead=2)"
   ]
  },
  {
   "cell_type": "code",
   "execution_count": 27,
   "id": "9b575f4c-5aeb-4c9e-bf63-10f9111a4bc7",
   "metadata": {},
   "outputs": [
    {
     "data": {
      "text/plain": [
       "tensor([[[0.3611, 0.5325, 0.9481, 0.7963],\n",
       "         [0.9961, 0.7956, 0.4017, 0.0502],\n",
       "         [0.8829, 0.4834, 0.9679, 0.2027]],\n",
       "\n",
       "        [[0.4936, 0.8113, 0.0598, 0.9159],\n",
       "         [0.5789, 0.0197, 0.1378, 0.9244],\n",
       "         [0.7272, 0.4989, 0.9344, 0.2296]]])"
      ]
     },
     "execution_count": 27,
     "metadata": {},
     "output_type": "execute_result"
    }
   ],
   "source": [
    "src = torch.rand(2,3,4)\n",
    "src"
   ]
  },
  {
   "cell_type": "code",
   "execution_count": 28,
   "id": "f8d707cf-493f-43c8-b193-630360ee36a2",
   "metadata": {},
   "outputs": [
    {
     "data": {
      "text/plain": [
       "tensor([[[-1.6869,  0.3180,  0.9256,  0.4433],\n",
       "         [ 0.4204,  1.2509, -0.1791, -1.4921],\n",
       "         [-0.2207,  0.3562,  1.3134, -1.4489]],\n",
       "\n",
       "        [[-0.9238,  0.8286, -1.0604,  1.1556],\n",
       "         [ 0.1103, -0.7229, -0.9739,  1.5865],\n",
       "         [-0.6777,  0.6753,  1.2431, -1.2407]]],\n",
       "       grad_fn=<NativeLayerNormBackward0>)"
      ]
     },
     "execution_count": 28,
     "metadata": {},
     "output_type": "execute_result"
    }
   ],
   "source": [
    "out = encoder_layer(src)\n",
    "out"
   ]
  },
  {
   "cell_type": "code",
   "execution_count": null,
   "id": "10875376-a12d-4ab1-81e3-3fe2be9c7953",
   "metadata": {},
   "outputs": [],
   "source": []
  }
 ],
 "metadata": {
  "kernelspec": {
   "display_name": "Python 3 (ipykernel)",
   "language": "python",
   "name": "python3"
  },
  "language_info": {
   "codemirror_mode": {
    "name": "ipython",
    "version": 3
   },
   "file_extension": ".py",
   "mimetype": "text/x-python",
   "name": "python",
   "nbconvert_exporter": "python",
   "pygments_lexer": "ipython3",
   "version": "3.9.7"
  }
 },
 "nbformat": 4,
 "nbformat_minor": 5
}
